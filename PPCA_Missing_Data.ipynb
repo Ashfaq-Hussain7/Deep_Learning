{
  "nbformat": 4,
  "nbformat_minor": 0,
  "metadata": {
    "colab": {
      "provenance": []
    },
    "kernelspec": {
      "name": "python3",
      "display_name": "Python 3"
    },
    "language_info": {
      "name": "python"
    }
  },
  "cells": [
    {
      "cell_type": "code",
      "source": [
        "!pip install ppca"
      ],
      "metadata": {
        "colab": {
          "base_uri": "https://localhost:8080/"
        },
        "id": "4QC9770znPyD",
        "outputId": "05e07f5b-2c5d-4ebd-91d7-dcf24e8006ce"
      },
      "execution_count": 2,
      "outputs": [
        {
          "output_type": "stream",
          "name": "stdout",
          "text": [
            "Collecting ppca\n",
            "  Downloading ppca-0.0.4-py3-none-any.whl.metadata (400 bytes)\n",
            "Requirement already satisfied: numpy in /usr/local/lib/python3.12/dist-packages (from ppca) (2.0.2)\n",
            "Requirement already satisfied: scipy in /usr/local/lib/python3.12/dist-packages (from ppca) (1.16.1)\n",
            "Downloading ppca-0.0.4-py3-none-any.whl (6.7 kB)\n",
            "Installing collected packages: ppca\n",
            "Successfully installed ppca-0.0.4\n"
          ]
        }
      ]
    },
    {
      "cell_type": "code",
      "execution_count": 3,
      "metadata": {
        "id": "j8HeWKishkuO"
      },
      "outputs": [],
      "source": [
        "import numpy as np\n",
        "from ppca import PPCA\n",
        "from sklearn.impute import SimpleImputer"
      ]
    },
    {
      "cell_type": "code",
      "source": [
        "# Step I: Synthetic dataset + Missing values\n",
        "np.random.seed(42)\n",
        "N, D, k = 500, 10, 3  # samples, features, latent dimension\n",
        "\n",
        "# Generate low-rank data\n",
        "Z_true = np.random.randn(N, k)\n",
        "W_true = np.random.randn(D, k)\n",
        "X_full = Z_true @ W_true.T + 0.1 * np.random.randn(N, D)  # add small noise\n",
        "\n",
        "# Save full data for error comparison\n",
        "X_true = X_full.copy()\n",
        "\n",
        "# Introduce 10% missing values at random\n",
        "mask = np.random.rand(*X_full.shape) < 0.1\n",
        "X_miss = X_full.copy()\n",
        "X_miss[mask] = np.nan\n",
        "\n",
        "print(\"Missing values ratio:\", np.isnan(X_miss).mean())\n"
      ],
      "metadata": {
        "colab": {
          "base_uri": "https://localhost:8080/"
        },
        "id": "Hv2CHvtSht3O",
        "outputId": "4cd74be5-91a7-46c2-d796-71b7a216fbe1"
      },
      "execution_count": 4,
      "outputs": [
        {
          "output_type": "stream",
          "name": "stdout",
          "text": [
            "Missing values ratio: 0.0964\n"
          ]
        }
      ]
    },
    {
      "cell_type": "code",
      "source": [
        "# Step II: Apply PPCA (handles NaNs in EM)\n",
        "ppca = PPCA()\n",
        "ppca.fit(X_miss, d=k)\n",
        "\n",
        "# Get imputed data (reconstructed full matrix)\n",
        "X_imputed = ppca.data"
      ],
      "metadata": {
        "id": "ZCJBHsBFhtzw"
      },
      "execution_count": 5,
      "outputs": []
    },
    {
      "cell_type": "code",
      "source": [
        "# Step III: Evaluation\n",
        "ppca_error = np.mean((X_imputed[mask] - X_true[mask])**2)\n",
        "print(f\"PPCA Imputation MSE on missing entries: {ppca_error:.4f}\")\n"
      ],
      "metadata": {
        "id": "NVNGn8lbroNg",
        "colab": {
          "base_uri": "https://localhost:8080/"
        },
        "outputId": "1d5b0d07-aeea-4ca3-da24-7628bd8639d8"
      },
      "execution_count": 6,
      "outputs": [
        {
          "output_type": "stream",
          "name": "stdout",
          "text": [
            "PPCA Imputation MSE on missing entries: 0.7920\n"
          ]
        }
      ]
    },
    {
      "cell_type": "code",
      "source": [
        "# Baseline (Mean Imputation)\n",
        "imp = SimpleImputer(strategy=\"mean\")\n",
        "X_mean_imp = imp.fit_transform(X_miss)\n",
        "mean_error = np.mean((X_mean_imp[mask] - X_true[mask])**2)\n",
        "print(f\"Mean Imputation MSE on missing entries: {mean_error:.4f}\")"
      ],
      "metadata": {
        "id": "BDUZ7l4uh9NE",
        "colab": {
          "base_uri": "https://localhost:8080/"
        },
        "outputId": "8635e5ae-b5c0-4045-90ec-76352374cba6"
      },
      "execution_count": 7,
      "outputs": [
        {
          "output_type": "stream",
          "name": "stdout",
          "text": [
            "Mean Imputation MSE on missing entries: 2.7325\n"
          ]
        }
      ]
    },
    {
      "cell_type": "code",
      "source": [
        "'''📊 Output Recap\n",
        "\n",
        "Missing values ratio: 0.0964 → about 9.6% of entries in your dataset were randomly set to NaN.\n",
        "\n",
        "PPCA Imputation MSE: 0.7920\n",
        "\n",
        "Mean Imputation MSE: 2.7325\n",
        "\n",
        "🔹 What this means\n",
        "\n",
        "Mean Imputation\n",
        "\n",
        "Just replaces each missing entry with the mean of that column.\n",
        "\n",
        "It ignores relationships between features.\n",
        "\n",
        "That’s why its error (2.73) is relatively high.\n",
        "\n",
        "PPCA Imputation\n",
        "\n",
        "PPCA learns a low-dimensional latent space that explains correlations among features.\n",
        "\n",
        "During the EM algorithm, it can estimate missing values consistently with the low-rank structure.\n",
        "\n",
        "That’s why its error (0.79) is much smaller.\n",
        "\n",
        "🔹 Interpretation\n",
        "\n",
        "Your synthetic data was generated from a low-rank model (k = 3).\n",
        "\n",
        "PPCA knows how to exploit that, so it reconstructs missing entries much closer to the true values.\n",
        "\n",
        "In short:\n",
        "\n",
        "PPCA ≫ Mean imputation for correlated/multivariate data.\n",
        "\n",
        "If features were independent, PPCA wouldn’t help much.'''"
      ],
      "metadata": {
        "id": "l1gQ5i0SoI-l"
      },
      "execution_count": null,
      "outputs": []
    }
  ]
}